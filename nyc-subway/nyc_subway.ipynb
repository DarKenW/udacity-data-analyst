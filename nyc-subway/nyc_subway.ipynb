{
 "cells": [
  {
   "cell_type": "markdown",
   "metadata": {},
   "source": [
    "Analyzing the NYC Subway Dataset\n",
    "================="
   ]
  },
  {
   "cell_type": "markdown",
   "metadata": {},
   "source": [
    "Secction 0. References\n",
    "---------------------"
   ]
  },
  {
   "cell_type": "markdown",
   "metadata": {},
   "source": [
    "* [Welch's t test](http://en.wikipedia.org/wiki/Welch%27s_t_test)\n",
    "* [Mann-Whitney U test](http://en.wikipedia.org/wiki/Mann%E2%80%93Whitney_U_test)"
   ]
  },
  {
   "cell_type": "markdown",
   "metadata": {},
   "source": [
    "Section 1. Statistical Test\n",
    "---------------------------"
   ]
  },
  {
   "cell_type": "markdown",
   "metadata": {},
   "source": [
    "### 1.1\n",
    "\n",
    "I used Mann-Whitney U Test to analyze the NYC subway data.\n",
    "\n",
    "I used a two-tail P value.\n",
    "\n",
    "The null hypothesis is the subway riders are not affected by whether it rains or not, i.e. the number of riders on rainy days and number of riders on non-rainy days follow the same distribution.\n",
    "\n",
    "The P-critical value I use is 5%."
   ]
  },
  {
   "cell_type": "markdown",
   "metadata": {},
   "source": [
    "### 1.2\n",
    "\n",
    "The Mann-Whitney U Test is applicable to the dataset is a nonparametric test that does not make any assumption on the underlying distribution. By ploting the histogram of two ridership samples, we see they are clearly not normal distribution, and therefore a t test is not suitable for this dataset."
   ]
  },
  {
   "cell_type": "markdown",
   "metadata": {},
   "source": [
    "### 1.3\n",
    "\n",
    "The results we get from this statistical test is that the ridership **is** affected by whether it rains or not, in other words, the number of riders on rainy days and number of riders on non-rainy days **do not** follow the same distribution. Furthermore, the number of riders on a rainy day is slightly larger than that on a non-rainy day.\n",
    "\n",
    "The p-value of this test is 0.025. The mean number of riders on rainy days is 1105, and that on non-rainy days is 1090."
   ]
  },
  {
   "cell_type": "markdown",
   "metadata": {},
   "source": [
    "### 1.4\n",
    "\n",
    "The significance level of this test is 5% (the P-critical value I set in 1.1). The interpretation is that the probability of our conclusion is wrong because of bad luck is less than 5%. More specifically, if the ridership is not affected by raining or not, the probability of seeing data as extreme as the one we currently have is less than 5%."
   ]
  },
  {
   "cell_type": "markdown",
   "metadata": {},
   "source": [
    "Section 2. Linear Regression\n",
    "---------------------------"
   ]
  },
  {
   "cell_type": "markdown",
   "metadata": {},
   "source": []
  },
  {
   "cell_type": "markdown",
   "metadata": {},
   "source": [
    "Section 3. Visualization\n",
    "-----------------------"
   ]
  },
  {
   "cell_type": "markdown",
   "metadata": {},
   "source": []
  },
  {
   "cell_type": "markdown",
   "metadata": {},
   "source": [
    "Section 4. Conclusion\n",
    "--------------------"
   ]
  },
  {
   "cell_type": "markdown",
   "metadata": {},
   "source": []
  },
  {
   "cell_type": "markdown",
   "metadata": {},
   "source": [
    "Section 5. Reflection\n",
    "--------------------"
   ]
  },
  {
   "cell_type": "markdown",
   "metadata": {},
   "source": []
  }
 ],
 "metadata": {
  "kernelspec": {
   "display_name": "Python 2",
   "language": "python",
   "name": "python2"
  },
  "language_info": {
   "codemirror_mode": {
    "name": "ipython",
    "version": 2
   },
   "file_extension": ".py",
   "mimetype": "text/x-python",
   "name": "python",
   "nbconvert_exporter": "python",
   "pygments_lexer": "ipython2",
   "version": "2.7.9"
  }
 },
 "nbformat": 4,
 "nbformat_minor": 0
}
