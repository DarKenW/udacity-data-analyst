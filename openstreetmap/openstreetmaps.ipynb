{
 "cells": [
  {
   "cell_type": "markdown",
   "metadata": {},
   "source": [
    "Data Wrangle OpenStreetMaps Data\n",
    "================="
   ]
  },
  {
   "cell_type": "markdown",
   "metadata": {},
   "source": [
    "Step One - Finish Lession 6\n",
    "-------------------------"
   ]
  },
  {
   "cell_type": "markdown",
   "metadata": {},
   "source": [
    "Done."
   ]
  },
  {
   "cell_type": "markdown",
   "metadata": {},
   "source": [
    "Step Two - Review the Rubric and Sample Project\n",
    "--------------------------------------------"
   ]
  },
  {
   "cell_type": "markdown",
   "metadata": {},
   "source": [
    "Done."
   ]
  },
  {
   "cell_type": "markdown",
   "metadata": {},
   "source": [
    "Step Three - Choose Your Map Area\n",
    "-------------------------------"
   ]
  },
  {
   "cell_type": "markdown",
   "metadata": {},
   "source": [
    "We use [Map Zen](https://mapzen.com/data/metro-extracts) to download the preselected metro area of San Francisco, California. After uncompressing, the dataset size is 648.9MB."
   ]
  },
  {
   "cell_type": "markdown",
   "metadata": {},
   "source": [
    "Step Four - Process your Dataset\n",
    "------------------------------"
   ]
  },
  {
   "cell_type": "markdown",
   "metadata": {},
   "source": [
    "### 4.1 Audit the dataset"
   ]
  },
  {
   "cell_type": "markdown",
   "metadata": {},
   "source": [
    "#### Sanity check on element types\n",
    "\n",
    "As a sanity check, we go through the dataset to see list all element types, which should contain the following:\n",
    "  * `osm`: top-level root node\n",
    "  * `node`, `way` and `relation`: instances of data primitives\n",
    "  * `tag`: a general purpose node for key/value pair.\n",
    "  * `nd`: used inside `way`s to reference a `node` element.\n",
    "  * `member`: used inside a `relation`."
   ]
  },
  {
   "cell_type": "code",
   "execution_count": 1,
   "metadata": {
    "collapsed": false
   },
   "outputs": [
    {
     "name": "stdout",
     "output_type": "stream",
     "text": [
      "set(['node', 'nd', 'bounds', 'member', 'tag', 'relation', 'way', 'osm'])\n"
     ]
    }
   ],
   "source": [
    "import xml.etree.cElementTree as ET\n",
    "\n",
    "xml_file = \"data/san-francisco_california.osm\"\n",
    "elem_types = set()\n",
    "for _, elem in ET.iterparse(xml_file):\n",
    "    # If the element type is not seen before, add it to the set.\n",
    "    if elem.tag not in elem_types:\n",
    "        elem_types.add(elem.tag)\n",
    "\n",
    "print elem_types"
   ]
  },
  {
   "cell_type": "markdown",
   "metadata": {},
   "source": [
    "The only \"unexpected\" element type is `bounds`, which occurs only once in the dataset to indicate the bounding box of this dataset."
   ]
  },
  {
   "cell_type": "markdown",
   "metadata": {},
   "source": [
    "#### Street address types\n",
    "\n",
    "Next we try to see different address types of all `node`s, and how many times each address type appears in the dataset. The address type is found from the `<tag k=\"addr:XXX\" v=\"xxxxxx\">` tag."
   ]
  },
  {
   "cell_type": "code",
   "execution_count": 2,
   "metadata": {
    "collapsed": false
   },
   "outputs": [
    {
     "name": "stdout",
     "output_type": "stream",
     "text": [
      "housenumber : 17746\n",
      "street : 14982\n",
      "city : 12790\n",
      "postcode : 2483\n",
      "state : 1620\n",
      "country : 727\n",
      "housename : 75\n",
      "unit : 52\n",
      "full : 31\n",
      "county : 14\n",
      "floor : 2\n",
      "housenumber:source : 2\n",
      "suite : 2\n",
      "interpolation : 2\n",
      "pier : 1\n",
      "province : 1\n",
      "place : 1\n",
      "door : 1\n"
     ]
    }
   ],
   "source": [
    "import operator\n",
    "\n",
    "address_types = {}\n",
    "for _, elem in ET.iterparse(xml_file):\n",
    "    if elem.tag == \"node\":\n",
    "        for tag in elem:\n",
    "            if tag.attrib['k'].startswith(\"addr:\"):\n",
    "                k = tag.attrib['k'][5:]\n",
    "                address_types.setdefault(k, 0)\n",
    "                address_types[k] += 1\n",
    "\n",
    "for k,v in sorted(address_types.items(), key=operator.itemgetter(1), reverse=True):\n",
    "    print k, ':', v"
   ]
  },
  {
   "cell_type": "markdown",
   "metadata": {},
   "source": [
    "We can see the majority of address types are `housenumber`(17746), `street`(14982), `city`(12790) and `postcode`(2483), and the relatively rare address types are `floor`, `housenumber:source`, `suite`, `interpolation`, `pier`, `province`, `place` and `door`, which happens only once or twice in the dataset."
   ]
  },
  {
   "cell_type": "markdown",
   "metadata": {},
   "source": [
    "#### Street names\n",
    "\n",
    "After having the street address types, we try to audit all the street name types in the dataset. Street name is extracted as the last word of `<tag k=\"addr:street\" v=\"xxxxxx\">` tag. We also keep a small number of examples for each street name type."
   ]
  },
  {
   "cell_type": "code",
   "execution_count": 3,
   "metadata": {
    "collapsed": false
   },
   "outputs": [
    {
     "name": "stdout",
     "output_type": "stream",
     "text": [
      "street : 7879 [ Haight Street, Haight Street ,...]\n",
      "avenue : 3672 [ College Avenue, College Avenue ,...]\n",
      "road : 806 [ Gouldin Road, Primrose Road ,...]\n",
      "way : 544 [ Bancroft Way, Martin Luther King Jr Way ,...]\n",
      "drive : 468 [ Laird Drive, Middlefield Drive ,...]\n",
      "boulevard : 319 [ West Hillsdale Boulevard, Fremont Boulevard ,...]\n",
      "broadway : 227 [ Broadway, Broadway ,...]\n",
      "real : 215 [ South El Camino Real, El Camino Real ,...]\n",
      "court : 207 [ Prescott Court, Prescott Court ,...]\n",
      "place : 82 [ William Saroyan Place, Romolo Place ,...]\n",
      "lane : 64 [ Laurel Lane, Laurel Lane ,...]\n",
      "st : 52 [ Park St, S Delaware St ,...]\n",
      "alameda : 50 [ The Alameda, The Alameda ,...]\n",
      "circle : 47 [ Holly Park Circle, Columbia Circle ,...]\n",
      "ave : 39 [ Floribunda Ave, Paloma Ave ,...]\n",
      "plaza : 26 [ Lakeshore Plaza, Civic Center Plaza ,...]\n",
      "plz : 23 [ Woodside Plz, Woodside Plz ,...]\n",
      "center : 21 [ Fort Mason Center, Seramonte Center ,...]\n",
      "square : 18 [ Shattuck Square, Jack London Square ,...]\n",
      "path : 18 [ Parnassus Path, Parnassus Path ,...]\n",
      "blvd : 17 [ Skyline Blvd, Geary Blvd ,...]\n",
      "terrace : 16 [ Greenwood Terrace, Hawthorne Terrace ,...]\n",
      "parkway : 11 [ Franklin Parkway, Discovery Parkway ,...]\n",
      "st. : 10 [ Sutter St., Halleck St. ,...]\n",
      "embarcadero : 10 [ The Embarcadero, The Embarcadero ,...]\n",
      "highway : 9 [ Bayshore Highway, Great Highway ,...]\n",
      "walk : 9 [ Rose Walk, Rose Walk ,...]\n",
      "dr : 8 [ Chateau Dr, California Dr ,...]\n",
      "rd : 6 [ Rollins Rd, Ascot Rd ,...]\n",
      "polk : 6 [ Polk, Polk ,...]\n",
      "alley : 6 [ Hodges Alley, Hodges Alley ,...]\n",
      "ave. : 5 [ San Carlos Ave., Menalto Ave. ,...]\n",
      "bridgeway : 4 [ Bridgeway, Bridgeway ,...]\n",
      "las : 4 [ Alameda De Las, Alameda De Las ,...]\n",
      "ora : 3 [ Avenue Del Ora, Avenue Del Ora ,...]\n",
      "park : 3 [ South Park, South Park ,...]\n",
      "mission : 2 [ Mission, Mission ]\n",
      "cres : 2 [ Wellesley Cres, Wellesley Cres ]\n",
      "d : 2 [ Avenue D, Avenue D ]\n",
      "columbus : 2 [ Columbus, Columbus ]\n",
      "post : 2 [ Post, Post ]\n",
      "ctr : 2 [ Tanforan Shopping Ctr, Linda Mar Shppng Ctr ]\n",
      "leimert : 2 [ Leimert, Leimert ]\n",
      "730 : 2 [ Sansome Street Suite 730, Sansome Street Ste 730 ]\n",
      "avenie : 2 [ Garvin Avenie, Garvin Avenie ]\n",
      "building : 2 [ Ferry Building, Ferry Building ]\n",
      "lugano : 2 [ Via Lugano, Via Lugano ]\n",
      "pulgas : 2 [ Alameda de Las Pulgas, Alamed de las Pulgas ]\n",
      "palms : 2 [ Avenue of the Palms, Avenue of the Palms ]\n",
      "a : 2 [ Pier 50 A, Adrian Court, Suite A ]\n",
      "3658 : 1 [ Market Street Suite 3658 ]\n",
      "cut : 1 [ Short Cut ]\n",
      "ln : 1 [ Yerba Buena Ln ]\n",
      "market/castro : 1 [ Market/Castro ]\n",
      "east : 1 [ Francisco Boulevard East ]\n",
      "15 : 1 [ Doolittle Dr, Suite 15 ]\n",
      "24th : 1 [ 24th ]\n",
      "hall : 1 [ McCone Hall ]\n",
      "h : 1 [ Avenue H ]\n",
      "bay : 1 [ Bay ]\n",
      "steps : 1 [ Bancroft Steps ]\n",
      "rock : 1 [ Mission Rock ]\n",
      "view : 1 [ Norwood View ]\n",
      "leslie : 1 [ Leslie ]\n",
      "mason : 1 [ Fort Mason ]\n",
      "hill : 1 [ California Street ( tra Polk St & Larkin St ) a Nob Hill ]\n",
      "dr. : 1 [ Grandview Dr. ]\n",
      "410 : 1 [ 18th Street Ste 410 ]\n",
      "abenue : 1 [ Columbus Abenue ]\n",
      "900 : 1 [ California Street #900 ]\n",
      "geary : 1 [ Geary ]\n",
      "fillmore : 1 [ Fillmore ]\n",
      "hwy : 1 [ Redwood Hwy ]\n",
      "market/noe : 1 [ Market/Noe ]\n",
      "100 : 1 [ Woodside Road, Suite 100 ]\n",
      "170 : 1 [ California Street, Suite 170 ]\n",
      "c-134 : 1 [ Holloway Avenue, Ste C-134 ]\n",
      "north : 1 [ Cabrillo Highway North ]\n",
      "10675 : 1 [ 10675 ]\n",
      "b : 1 [ Pier 50 B ]\n",
      "mall : 1 [ Pacific Avenue Mall ]\n",
      "9th : 1 [ 9th ]\n",
      "steet : 1 [ Guerrero Steet ]\n",
      "bridge : 1 [ Pier 1  SM- Hayward Bridge ]\n",
      "wharf : 1 [ Fishermans Wharf ]\n",
      "155 : 1 [ Woodside Road, Suite 155 ]\n",
      "12180142 : 1 [ 12180142 ]\n",
      "brannan : 1 [ Brannan ]\n",
      "judah : 1 [ Judah ]\n",
      "pine : 1 [ Pine ]\n",
      "powell : 1 [ Bay and Powell ]\n",
      "203 : 1 [ Bartlett Street #203 ]\n",
      "ness : 1 [ Van Ness ]\n",
      "488 : 1 [ Market Street #488 ]\n",
      "arrowhead : 1 [ lake arrowhead ]\n",
      "floor : 1 [ Montgomery Street, 2nd Floor ]\n",
      "41st : 1 [ 41st ]\n",
      "ashfield : 1 [ Ashfield ]\n",
      "blvd. : 1 [ East Francisco Blvd. ]\n"
     ]
    }
   ],
   "source": [
    "from collections import defaultdict\n",
    "import re\n",
    "\n",
    "street_name_re = re.compile(r'\\b\\S+\\.?$', re.IGNORECASE)\n",
    "\n",
    "street_names = defaultdict(int)\n",
    "street_name_examples = defaultdict(list)\n",
    "\n",
    "for _, elem in ET.iterparse(xml_file):\n",
    "    if elem.tag == \"node\":\n",
    "        for tag in elem:\n",
    "            if tag.attrib['k'] == \"addr:street\":\n",
    "                street = tag.attrib['v']\n",
    "                match = street_name_re.search(street)\n",
    "                if match:\n",
    "                    name = match.group().lower()\n",
    "                    street_names[name] += 1\n",
    "                    if street_names[name] < 3:\n",
    "                        street_name_examples[name].append(street)\n",
    "\n",
    "for k,v in sorted(street_names.items(), key=operator.itemgetter(1), reverse=True):\n",
    "    print k, ':', v, '[', ', '.join(street_name_examples[k]), (v>=3 and \",...]\" or ']')"
   ]
  },
  {
   "cell_type": "markdown",
   "metadata": {},
   "source": [
    "From the audit above, we see the common street names (ones that I expected to see) are:\n",
    "  * street (7879)\n",
    "  * avenue (3672)\n",
    "  * road (806)\n",
    "  * way (544)\n",
    "  * drive (468)\n",
    "  * boulevard (319)\n",
    "  * broadway (227)\n",
    "  * lane (64)\n",
    "  * plaza (26)\n",
    "  * square (18)\n",
    "  * parkway (11)\n",
    "  * highway (9)\n",
    "  * walk (9)\n",
    "    \n",
    "Some common abbreviations are:\n",
    "\n",
    "  * st (52) => street\n",
    "  * ave (39) => avenue\n",
    "  * plz (23) => plaza\n",
    "  * blvd (17) => boulevard\n",
    "  * st (10) => street\n",
    "  * dr (8) => drive\n",
    "  * rd (6) => road\n",
    "  * ave. (5) => avenue\n",
    "  * blvd. (1) => boulevard\n",
    "\n",
    "There are also some valid but uncommon street names (ones that I didn't expect to see):\n",
    "\n",
    "  * real : 215 [ South El Camino Real, El Camino Real ,...]\n",
    "  * court : 207 [ Prescott Court, Prescott Court ,...]\n",
    "  * place : 82 [ William Saroyan Place, Romolo Place ,...]\n",
    "  * alameda : 50 [ The Alameda, The Alameda ,...]\n",
    "  * circle : 47 [ Holly Park Circle, Columbia Circle ,...]\n",
    "  * center : 21 [ Fort Mason Center, Seramonte Center ,...]\n",
    "  * path : 18 [ Parnassus Path, Parnassus Path ,...]\n",
    "  * terrace : 16 [ Greenwood Terrace, Hawthorne Terrace ,...]\n",
    "  * embarcadero : 10 [ The Embarcadero, The Embarcadero ,...]\n",
    "  * bridgeway : 4 [ Bridgeway, Bridgeway ,...]\n",
    "  \n",
    "The rest street names are either very uncommon erroneously formatted (e.g. `leimert : 2 [ Leimert, Leimert ]`, `hall : 1 [ McCone Hall ]`, `410 : 1 [ 18th Street Ste 410 ]`, `h : 1 [ Avenue H ]` etc.)."
   ]
  },
  {
   "cell_type": "markdown",
   "metadata": {},
   "source": [
    "### 4.2 Clean the dataset and convert to JSON"
   ]
  },
  {
   "cell_type": "markdown",
   "metadata": {},
   "source": [
    "#### Clean street names\n",
    "\n",
    "Based on audit above, we clean the street name with the following rules:\n",
    "  * keep the common street names, both common ones (e.g. `street`, `road`) and the uncommone ones (e.g. `real`, `embarcadero`);\n",
    "  * convert the abbreviation to full name, e.g. `st => street`, `blvd => boulevard`;\n",
    "  * drop the very uncommon or erroneously formatted names, e.g. `410 [ 18th Street Ste 410 ]`, `h : [ Avenue H ]`."
   ]
  },
  {
   "cell_type": "code",
   "execution_count": 24,
   "metadata": {
    "collapsed": true
   },
   "outputs": [],
   "source": [
    "def get_element_created(elem):\n",
    "    \"\"\"Get a 'created' dictionary from an element, that has the following keys:\n",
    "    'version', 'changeset', 'timestamp', 'uid', 'user'.\"\"\"\n",
    "    created = {}\n",
    "    for k in [\"version\", \"changeset\", \"timestamp\", \"uid\", \"user\"]:\n",
    "        if k in elem.attrib:\n",
    "            created[k] = elem.attrib[k]\n",
    "    return created"
   ]
  },
  {
   "cell_type": "markdown",
   "metadata": {},
   "source": [
    "#### Audit street address types"
   ]
  },
  {
   "cell_type": "code",
   "execution_count": 23,
   "metadata": {
    "collapsed": true
   },
   "outputs": [],
   "source": [
    "address_types = {}\n",
    "for _, elem in ET.iterparse(xml_file):\n",
    "    if elem.tag == \"node\":\n",
    "        for tag in elem:\n",
    "            if tag.attrib['k'].startswith(\"addr:\"):\n",
    "                k = tag.attrib['k'][5:]\n",
    "                address_types.setdefault(k, 0)\n",
    "                address_types[k] += 1\n",
    "for k,v in address_types.items():\n",
    "    print k, ':', v"
   ]
  },
  {
   "cell_type": "code",
   "execution_count": 28,
   "metadata": {
    "collapsed": false,
    "scrolled": true
   },
   "outputs": [
    {
     "name": "stdout",
     "output_type": "stream",
     "text": [
      "pier : 1\n",
      "city : 12790\n",
      "full : 31\n",
      "province : 1\n",
      "floor : 2\n",
      "country : 727\n",
      "housenumber:source : 2\n",
      "county : 14\n",
      "place : 1\n",
      "state : 1620\n",
      "street : 14982\n",
      "housename : 75\n",
      "postcode : 2483\n",
      "suite : 2\n",
      "door : 1\n",
      "housenumber : 17746\n",
      "unit : 52\n",
      "interpolation : 2\n"
     ]
    }
   ],
   "source": []
  },
  {
   "cell_type": "code",
   "execution_count": 25,
   "metadata": {
    "collapsed": true
   },
   "outputs": [],
   "source": [
    "def get_node_address(node):\n",
    "    pass"
   ]
  },
  {
   "cell_type": "code",
   "execution_count": 16,
   "metadata": {
    "collapsed": false
   },
   "outputs": [],
   "source": [
    "import json\n",
    "import xml.etree.cElementTree as ET\n",
    "\n",
    "xml_file = \"data/san-francisco_california.osm\"\n",
    "json_file = xml_file + \".json\"\n",
    "\n",
    "def shape_node(elem):\n",
    "    node = {\"type\": \"node\"}\n",
    "    node[\"id\"] = elem.attrib[\"id\"]\n",
    "    node[\"coord\"] = [float(elem.attrib[\"lat\"]), \n",
    "                     float(elem.attrib[\"lon\"])]\n",
    "    node[\"created\"] = get_element_created(elem)\n",
    "    return node\n",
    "\n",
    "def shape_way(elem):\n",
    "    way = {\"type\": \"way\"}\n",
    "    way[\"created\"] = get_element_created(elem)\n",
    "    return way\n",
    "\n",
    "def shape_relation(elem):\n",
    "    relation = {\"type\": \"relation\"}\n",
    "    relation[\"created\"] = get_element_created(elem)\n",
    "    return relation\n",
    "\n",
    "with open(json_file, 'w') as f:\n",
    "    for _, elem in ET.iterparse(xml_file):\n",
    "        # Convert the element to json dictionary according to type.\n",
    "        if elem.tag == \"node\":\n",
    "            j = shape_node(elem)\n",
    "        elif elem.tag == \"way\":\n",
    "            j = shape_way(elem)\n",
    "        elif elem.tag == \"relation\":\n",
    "            j = shape_relation(elem)\n",
    "        else:\n",
    "            j = None\n",
    "        # Dump the json dictionary to file.\n",
    "        if j:\n",
    "            f.write(json.dumps(j) + \"\\n\")"
   ]
  },
  {
   "cell_type": "markdown",
   "metadata": {},
   "source": [
    "## 4.3 Import into a MangoDB database and run queries"
   ]
  },
  {
   "cell_type": "markdown",
   "metadata": {},
   "source": []
  },
  {
   "cell_type": "code",
   "execution_count": null,
   "metadata": {
    "collapsed": true
   },
   "outputs": [],
   "source": [
    "!mkdir -p db\n",
    "!mongod -dbpath db"
   ]
  },
  {
   "cell_type": "code",
   "execution_count": 17,
   "metadata": {
    "collapsed": false
   },
   "outputs": [
    {
     "name": "stdout",
     "output_type": "stream",
     "text": [
      "2015-06-08T14:31:29.477-0400\tconnected to: localhost\n",
      "2015-06-08T14:31:29.479-0400\tdropping: openstreetmap.sanfrancisco\n",
      "2015-06-08T14:31:32.457-0400\t[........................] openstreetmap.sanfrancisco\t25.1 MB/624.9 MB (4.0%)\n",
      "2015-06-08T14:31:35.461-0400\t[#.......................] openstreetmap.sanfrancisco\t50.6 MB/624.9 MB (8.1%)\n",
      "2015-06-08T14:31:38.460-0400\t[##......................] openstreetmap.sanfrancisco\t76.4 MB/624.9 MB (12.2%)\n",
      "2015-06-08T14:31:41.458-0400\t[###.....................] openstreetmap.sanfrancisco\t101.5 MB/624.9 MB (16.2%)\n",
      "2015-06-08T14:31:44.457-0400\t[####....................] openstreetmap.sanfrancisco\t128.7 MB/624.9 MB (20.6%)\n",
      "2015-06-08T14:31:47.456-0400\t[#####...................] openstreetmap.sanfrancisco\t155.1 MB/624.9 MB (24.8%)\n",
      "2015-06-08T14:31:50.457-0400\t[######..................] openstreetmap.sanfrancisco\t180.2 MB/624.9 MB (28.8%)\n",
      "2015-06-08T14:31:53.459-0400\t[#######.................] openstreetmap.sanfrancisco\t205.2 MB/624.9 MB (32.8%)\n",
      "2015-06-08T14:31:56.457-0400\t[########................] openstreetmap.sanfrancisco\t231.1 MB/624.9 MB (37.0%)\n",
      "2015-06-08T14:31:59.456-0400\t[#########...............] openstreetmap.sanfrancisco\t257.0 MB/624.9 MB (41.1%)\n",
      "2015-06-08T14:32:02.456-0400\t[##########..............] openstreetmap.sanfrancisco\t283.0 MB/624.9 MB (45.3%)\n",
      "2015-06-08T14:32:05.460-0400\t[###########.............] openstreetmap.sanfrancisco\t308.6 MB/624.9 MB (49.4%)\n",
      "2015-06-08T14:32:08.458-0400\t[############............] openstreetmap.sanfrancisco\t333.5 MB/624.9 MB (53.4%)\n",
      "2015-06-08T14:32:11.457-0400\t[#############...........] openstreetmap.sanfrancisco\t360.2 MB/624.9 MB (57.6%)\n",
      "2015-06-08T14:32:14.461-0400\t[##############..........] openstreetmap.sanfrancisco\t385.6 MB/624.9 MB (61.7%)\n",
      "2015-06-08T14:32:17.458-0400\t[###############.........] openstreetmap.sanfrancisco\t411.3 MB/624.9 MB (65.8%)\n",
      "2015-06-08T14:32:20.458-0400\t[################........] openstreetmap.sanfrancisco\t437.3 MB/624.9 MB (70.0%)\n",
      "2015-06-08T14:32:23.459-0400\t[#################.......] openstreetmap.sanfrancisco\t462.8 MB/624.9 MB (74.1%)\n",
      "2015-06-08T14:32:26.457-0400\t[##################......] openstreetmap.sanfrancisco\t472.4 MB/624.9 MB (75.6%)\n",
      "2015-06-08T14:32:29.458-0400\t[##################......] openstreetmap.sanfrancisco\t491.6 MB/624.9 MB (78.7%)\n",
      "2015-06-08T14:32:32.458-0400\t[###################.....] openstreetmap.sanfrancisco\t516.4 MB/624.9 MB (82.6%)\n",
      "2015-06-08T14:32:35.459-0400\t[####################....] openstreetmap.sanfrancisco\t542.8 MB/624.9 MB (86.9%)\n",
      "2015-06-08T14:32:38.456-0400\t[#####################...] openstreetmap.sanfrancisco\t562.9 MB/624.9 MB (90.1%)\n",
      "2015-06-08T14:32:41.456-0400\t[######################..] openstreetmap.sanfrancisco\t587.8 MB/624.9 MB (94.1%)\n",
      "2015-06-08T14:32:44.457-0400\t[#######################.] openstreetmap.sanfrancisco\t608.6 MB/624.9 MB (97.4%)\n",
      "2015-06-08T14:32:46.922-0400\timported 3347068 documents\n"
     ]
    }
   ],
   "source": [
    "!mongoimport --db openstreetmap --collection sanfrancisco --drop \\\n",
    "             --file data/san-francisco_california.osm.json"
   ]
  },
  {
   "cell_type": "code",
   "execution_count": 18,
   "metadata": {
    "collapsed": true
   },
   "outputs": [],
   "source": [
    "from pymongo import MongoClient\n",
    "\n",
    "client = MongoClient()\n",
    "db = client.openstreetmap\n",
    "collection = db.sanfrancisco"
   ]
  },
  {
   "cell_type": "code",
   "execution_count": 21,
   "metadata": {
    "collapsed": false
   },
   "outputs": [
    {
     "name": "stdout",
     "output_type": "stream",
     "text": [
      "Number of <node>s: 3018836\n",
      "Number of <way>s: 324910\n",
      "Number of <relation>s: 3322\n",
      "Number of distinct users: 1970\n"
     ]
    }
   ],
   "source": [
    "print \"Number of <node>s:\", collection.find({\"type\":\"node\"}).count()\n",
    "print \"Number of <way>s:\", collection.find({\"type\":\"way\"}).count()\n",
    "print \"Number of <relation>s:\", collection.find({\"type\":\"relation\"}).count()\n",
    "\n",
    "print \"Number of distinct users:\", len(collection.distinct(\"created.user\"))"
   ]
  },
  {
   "cell_type": "code",
   "execution_count": null,
   "metadata": {
    "collapsed": true
   },
   "outputs": [],
   "source": []
  },
  {
   "cell_type": "markdown",
   "metadata": {},
   "source": [
    "Step Five -Document your Work\n",
    "---------------------------"
   ]
  },
  {
   "cell_type": "markdown",
   "metadata": {},
   "source": []
  }
 ],
 "metadata": {
  "kernelspec": {
   "display_name": "Python 2",
   "language": "python",
   "name": "python2"
  },
  "language_info": {
   "codemirror_mode": {
    "name": "ipython",
    "version": 2
   },
   "file_extension": ".py",
   "mimetype": "text/x-python",
   "name": "python",
   "nbconvert_exporter": "python",
   "pygments_lexer": "ipython2",
   "version": "2.7.10"
  }
 },
 "nbformat": 4,
 "nbformat_minor": 0
}
