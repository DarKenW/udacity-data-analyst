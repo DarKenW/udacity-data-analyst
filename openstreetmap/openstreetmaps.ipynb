{
 "cells": [
  {
   "cell_type": "markdown",
   "metadata": {},
   "source": [
    "Data Wrangle OpenStreetMaps Data\n",
    "================="
   ]
  },
  {
   "cell_type": "markdown",
   "metadata": {},
   "source": [
    "Step One - Finish Lession 6\n",
    "-------------------------"
   ]
  },
  {
   "cell_type": "markdown",
   "metadata": {},
   "source": [
    "Done."
   ]
  },
  {
   "cell_type": "markdown",
   "metadata": {},
   "source": [
    "Step Two - Review the Rubric and Sample Project\n",
    "--------------------------------------------"
   ]
  },
  {
   "cell_type": "markdown",
   "metadata": {},
   "source": [
    "Done."
   ]
  },
  {
   "cell_type": "markdown",
   "metadata": {},
   "source": [
    "Step Three - Choose Your Map Area\n",
    "-------------------------------"
   ]
  },
  {
   "cell_type": "markdown",
   "metadata": {},
   "source": [
    "We use [Map Zen](https://mapzen.com/data/metro-extracts) to download the preselected metro area of San Francisco, California. After uncompressing, the dataset size is 648.9MB."
   ]
  },
  {
   "cell_type": "markdown",
   "metadata": {},
   "source": [
    "Step Four - Process your Dataset\n",
    "------------------------------"
   ]
  },
  {
   "cell_type": "markdown",
   "metadata": {},
   "source": [
    "### 4.1 Audit the dataset"
   ]
  },
  {
   "cell_type": "markdown",
   "metadata": {},
   "source": [
    "#### Sanity check on element types\n",
    "\n",
    "As a sanity check, we go through the dataset to see list all element types, which should contain the following:\n",
    "  * `osm`: top-level root node\n",
    "  * `node`, `way` and `relation`: instances of data primitives\n",
    "  * `tag`: a general purpose node for key/value pair.\n",
    "  * `nd`: used inside `way`s to reference a `node` element.\n",
    "  * `member`: used inside a `relation`."
   ]
  },
  {
   "cell_type": "code",
   "execution_count": 1,
   "metadata": {
    "collapsed": false
   },
   "outputs": [
    {
     "name": "stdout",
     "output_type": "stream",
     "text": [
      "set(['node', 'nd', 'bounds', 'member', 'tag', 'relation', 'way', 'osm'])\n"
     ]
    }
   ],
   "source": [
    "import xml.etree.cElementTree as ET\n",
    "\n",
    "xml_file = \"data/san-francisco_california.osm\"\n",
    "elem_types = set()\n",
    "for _, elem in ET.iterparse(xml_file):\n",
    "    # If the element type is not seen before, add it to the set.\n",
    "    if elem.tag not in elem_types:\n",
    "        elem_types.add(elem.tag)\n",
    "\n",
    "print elem_types"
   ]
  },
  {
   "cell_type": "markdown",
   "metadata": {},
   "source": [
    "The only \"unexpected\" element type is `bounds`, which occurs only once in the dataset to indicate the bounding box of this dataset."
   ]
  },
  {
   "cell_type": "markdown",
   "metadata": {},
   "source": [
    "### 4.2 Clean the dataset"
   ]
  },
  {
   "cell_type": "markdown",
   "metadata": {},
   "source": [
    "### 4.3 Convert from XML to JSON"
   ]
  },
  {
   "cell_type": "code",
   "execution_count": 4,
   "metadata": {
    "collapsed": true
   },
   "outputs": [],
   "source": [
    "import json\n",
    "\n",
    "json_file = xml_file + \".json\"\n",
    "\n",
    "def shape_node(elem):\n",
    "    node = {\"type\": \"node\"}\n",
    "    node[\"id\"] = elem.attrib[\"id\"]\n",
    "    node[\"coord\"] = [float(elem.attrib[\"lat\"]), \n",
    "                     float(elem.attrib[\"lon\"])]\n",
    "    return node\n",
    "\n",
    "def shape_way(elem):\n",
    "    way = {\"type\": \"way\"}\n",
    "    return way\n",
    "\n",
    "def shape_relation(elem):\n",
    "    relation = {\"type\": \"relation\"}\n",
    "    return relation\n",
    "\n",
    "with open(json_file, 'w') as f:\n",
    "    for _, elem in ET.iterparse(xml_file):\n",
    "        # Convert the element to json dictionary according to type.\n",
    "        if elem.tag == \"node\":\n",
    "            j = shape_node(elem)\n",
    "        elif elem.tag == \"way\":\n",
    "            j = shape_way(elem)\n",
    "        elif elem.tag == \"relation\":\n",
    "            j = shape_relation(elem)\n",
    "        else:\n",
    "            j = None\n",
    "        # Dump the json dictionary to file.\n",
    "        if j:\n",
    "            f.write(json.dumps(j) + \"\\n\")"
   ]
  },
  {
   "cell_type": "markdown",
   "metadata": {},
   "source": [
    "### 4.4 Import into a MangoDB database and run queries"
   ]
  },
  {
   "cell_type": "markdown",
   "metadata": {},
   "source": [
    "Step Five -Document your Work\n",
    "---------------------------"
   ]
  },
  {
   "cell_type": "markdown",
   "metadata": {},
   "source": []
  }
 ],
 "metadata": {
  "kernelspec": {
   "display_name": "Python 2",
   "language": "python",
   "name": "python2"
  },
  "language_info": {
   "codemirror_mode": {
    "name": "ipython",
    "version": 2
   },
   "file_extension": ".py",
   "mimetype": "text/x-python",
   "name": "python",
   "nbconvert_exporter": "python",
   "pygments_lexer": "ipython2",
   "version": "2.7.10"
  }
 },
 "nbformat": 4,
 "nbformat_minor": 0
}
